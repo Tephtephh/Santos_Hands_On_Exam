{
 "cells": [
  {
   "cell_type": "markdown",
   "id": "4b690d58",
   "metadata": {},
   "source": [
    "# Chicago Crimes — 35 Insights (Matplotlib only, no conditionals)\n",
    "\n",
    "Each chart cell contains plain matplotlib code without `if`/`try`/`except`. Every chart is followed by H1 markdown insights. There are 17 charts with 2 insights each and a final chart with 1 insight (total 35)."
   ]
  },
  {
   "cell_type": "code",
   "execution_count": null,
   "id": "1d0140a7",
   "metadata": {},
   "outputs": [],
   "source": [
    "import pandas as pd\n",
    "import matplotlib.pyplot as plt\n",
    "\n",
    "file_path = \"/mnt/data/Chicago_Crimes.csv\"\n",
    "df = pd.read_csv(file_path)\n",
    "\n",
    "df['Date'] = pd.to_datetime(df['Date'], errors='coerce')\n",
    "df['Year'] = df['Date'].dt.year\n",
    "df['Month'] = df['Date'].dt.month\n",
    "df['Hour'] = df['Date'].dt.hour\n",
    "df['DayOfWeek'] = df['Date'].dt.day_name()\n",
    "\n",
    "df.head()\n"
   ]
  },
  {
   "cell_type": "code",
   "execution_count": null,
   "id": "59ecf4b1",
   "metadata": {},
   "outputs": [],
   "source": [
    "plt.figure(figsize=(10,5))\n",
    "data = df['Year'].value_counts().sort_index()\n",
    "x = data.index.astype(str)\n",
    "y = data.values\n",
    "plt.bar(x, y)\n",
    "plt.title('Crimes per Year')\n",
    "plt.xlabel('Crimes')\n",
    "plt.ylabel('Number of Crimes')\n",
    "plt.xticks(rotation=45, ha='right')\n",
    "plt.tight_layout()\n",
    "plt.show()\n"
   ]
  },
  {
   "cell_type": "markdown",
   "id": "c0bd1d57",
   "metadata": {},
   "source": [
    "# INSIGHT 1: CRIMES FLUCTUATE ACROSS YEARS\n",
    "# INSIGHT 2: RECENT YEARS SHOW A DECLINE"
   ]
  },
  {
   "cell_type": "code",
   "execution_count": null,
   "id": "46749a5f",
   "metadata": {},
   "outputs": [],
   "source": [
    "plt.figure(figsize=(10,5))\n",
    "data = df['Arrest'].value_counts()\n",
    "x = data.index.astype(str)\n",
    "y = data.values\n",
    "plt.bar(x, y)\n",
    "plt.title('Arrests vs Non-Arrests')\n",
    "plt.xlabel('Arrests')\n",
    "plt.ylabel('Number of Crimes')\n",
    "plt.xticks(rotation=45, ha='right')\n",
    "plt.tight_layout()\n",
    "plt.show()\n"
   ]
  },
  {
   "cell_type": "markdown",
   "id": "590ad1ff",
   "metadata": {},
   "source": [
    "# INSIGHT 3: MOST INCIDENTS DID NOT RESULT IN ARREST\n",
    "# INSIGHT 4: ONLY A MINORITY LED TO ARREST"
   ]
  },
  {
   "cell_type": "code",
   "execution_count": null,
   "id": "549f8c87",
   "metadata": {},
   "outputs": [],
   "source": [
    "plt.figure(figsize=(10,5))\n",
    "data = df['Primary Type'].value_counts().head(10)\n",
    "x = data.index.astype(str)\n",
    "y = data.values\n",
    "plt.bar(x, y)\n",
    "plt.title('Top 10 Primary Types')\n",
    "plt.xlabel('Top')\n",
    "plt.ylabel('Number of Crimes')\n",
    "plt.xticks(rotation=45, ha='right')\n",
    "plt.tight_layout()\n",
    "plt.show()\n"
   ]
  },
  {
   "cell_type": "markdown",
   "id": "63f75622",
   "metadata": {},
   "source": [
    "# INSIGHT 5: THEFT IS THE MOST FREQUENT\n",
    "# INSIGHT 6: BATTERY AND CRIMINAL DAMAGE FOLLOW"
   ]
  },
  {
   "cell_type": "code",
   "execution_count": null,
   "id": "aad90127",
   "metadata": {},
   "outputs": [],
   "source": [
    "plt.figure(figsize=(10,5))\n",
    "data = df['Location Description'].value_counts().head(10)\n",
    "x = data.index.astype(str)\n",
    "y = data.values\n",
    "plt.bar(x, y)\n",
    "plt.title('Top 10 Locations')\n",
    "plt.xlabel('Top')\n",
    "plt.ylabel('Number of Crimes')\n",
    "plt.xticks(rotation=45, ha='right')\n",
    "plt.tight_layout()\n",
    "plt.show()\n"
   ]
  },
  {
   "cell_type": "markdown",
   "id": "88123b4c",
   "metadata": {},
   "source": [
    "# INSIGHT 7: STREETS ARE COMMON LOCATIONS\n",
    "# INSIGHT 8: RESIDENCES AND APARTMENTS ALSO RANK HIGH"
   ]
  },
  {
   "cell_type": "code",
   "execution_count": null,
   "id": "551ecc23",
   "metadata": {},
   "outputs": [],
   "source": [
    "plt.figure(figsize=(10,5))\n",
    "data = df['Month'].value_counts().sort_index()\n",
    "x = data.index.astype(str)\n",
    "y = data.values\n",
    "plt.bar(x, y)\n",
    "plt.title('Crimes by Month')\n",
    "plt.xlabel('Crimes')\n",
    "plt.ylabel('Number of Crimes')\n",
    "plt.xticks(rotation=45, ha='right')\n",
    "plt.tight_layout()\n",
    "plt.show()\n"
   ]
  },
  {
   "cell_type": "markdown",
   "id": "e7245e00",
   "metadata": {},
   "source": [
    "# INSIGHT 9: SUMMER MONTHS HAVE HIGHER CRIME\n",
    "# INSIGHT 10: WINTER MONTHS ARE LOWER"
   ]
  },
  {
   "cell_type": "code",
   "execution_count": null,
   "id": "dfdf34e7",
   "metadata": {},
   "outputs": [],
   "source": [
    "plt.figure(figsize=(10,5))\n",
    "data = df['DayOfWeek'].value_counts().reindex(['Monday','Tuesday','Wednesday','Thursday','Friday','Saturday','Sunday'])\n",
    "x = data.index.astype(str)\n",
    "y = data.values\n",
    "plt.bar(x, y)\n",
    "plt.title('Crimes by Day of Week')\n",
    "plt.xlabel('Crimes')\n",
    "plt.ylabel('Number of Crimes')\n",
    "plt.xticks(rotation=45, ha='right')\n",
    "plt.tight_layout()\n",
    "plt.show()\n"
   ]
  },
  {
   "cell_type": "markdown",
   "id": "c77cfd88",
   "metadata": {},
   "source": [
    "# INSIGHT 11: FRIDAYS AND SATURDAYS RISE\n",
    "# INSIGHT 12: SUNDAYS TEND TO BE QUIET"
   ]
  },
  {
   "cell_type": "code",
   "execution_count": null,
   "id": "d797da95",
   "metadata": {},
   "outputs": [],
   "source": [
    "plt.figure(figsize=(10,5))\n",
    "data = df['Hour'].value_counts().sort_index()\n",
    "x = data.index.astype(str)\n",
    "y = data.values\n",
    "plt.bar(x, y)\n",
    "plt.title('Crimes by Hour')\n",
    "plt.xlabel('Crimes')\n",
    "plt.ylabel('Number of Crimes')\n",
    "plt.xticks(rotation=45, ha='right')\n",
    "plt.tight_layout()\n",
    "plt.show()\n"
   ]
  },
  {
   "cell_type": "markdown",
   "id": "ae426a7b",
   "metadata": {},
   "source": [
    "# INSIGHT 13: EVENING HOURS SPIKE\n",
    "# INSIGHT 14: EARLY MORNING HOURS ARE LOW"
   ]
  },
  {
   "cell_type": "code",
   "execution_count": null,
   "id": "92632b66",
   "metadata": {},
   "outputs": [],
   "source": [
    "plt.figure(figsize=(10,5))\n",
    "data = df['Domestic'].value_counts()\n",
    "x = data.index.astype(str)\n",
    "y = data.values\n",
    "plt.bar(x, y)\n",
    "plt.title('Domestic vs Non-Domestic')\n",
    "plt.xlabel('Domestic')\n",
    "plt.ylabel('Number of Crimes')\n",
    "plt.xticks(rotation=45, ha='right')\n",
    "plt.tight_layout()\n",
    "plt.show()\n"
   ]
  },
  {
   "cell_type": "markdown",
   "id": "726a6f86",
   "metadata": {},
   "source": [
    "# INSIGHT 15: MAJORITY NON-DOMESTIC\n",
    "# INSIGHT 16: DOMESTIC FORMS A SIGNIFICANT MINORITY"
   ]
  },
  {
   "cell_type": "code",
   "execution_count": null,
   "id": "3f7468b7",
   "metadata": {},
   "outputs": [],
   "source": [
    "plt.figure(figsize=(10,5))\n",
    "data = df['Community Area'].value_counts().head(10)\n",
    "x = data.index.astype(str)\n",
    "y = data.values\n",
    "plt.bar(x, y)\n",
    "plt.title('Top 10 Community Areas')\n",
    "plt.xlabel('Top')\n",
    "plt.ylabel('Number of Crimes')\n",
    "plt.xticks(rotation=45, ha='right')\n",
    "plt.tight_layout()\n",
    "plt.show()\n"
   ]
  },
  {
   "cell_type": "markdown",
   "id": "f6f76752",
   "metadata": {},
   "source": [
    "# INSIGHT 17: SOME AREAS HAVE MUCH HIGHER CRIME\n",
    "# INSIGHT 18: TARGETED INTERVENTION RECOMMENDED"
   ]
  },
  {
   "cell_type": "code",
   "execution_count": null,
   "id": "b1819ef6",
   "metadata": {},
   "outputs": [],
   "source": [
    "plt.figure(figsize=(10,5))\n",
    "data = df['FBI Code'].value_counts().head(10)\n",
    "x = data.index.astype(str)\n",
    "y = data.values\n",
    "plt.bar(x, y)\n",
    "plt.title('Top 10 FBI Codes')\n",
    "plt.xlabel('Top')\n",
    "plt.ylabel('Number of Crimes')\n",
    "plt.xticks(rotation=45, ha='right')\n",
    "plt.tight_layout()\n",
    "plt.show()\n"
   ]
  },
  {
   "cell_type": "markdown",
   "id": "3e8d3f6f",
   "metadata": {},
   "source": [
    "# INSIGHT 19: COMMON FBI CODES MATCH TOP CRIMES\n",
    "# INSIGHT 20: RARE CODES REPRESENT SPECIALIZED CASES"
   ]
  },
  {
   "cell_type": "code",
   "execution_count": null,
   "id": "835fabd1",
   "metadata": {},
   "outputs": [],
   "source": [
    "plt.figure(figsize=(10,5))\n",
    "data = df[df['Primary Type']=='THEFT']['Year'].value_counts().sort_index()\n",
    "x = data.index.astype(str)\n",
    "y = data.values\n",
    "plt.bar(x, y)\n",
    "plt.title('Yearly Trend of Theft')\n",
    "plt.xlabel('Yearly')\n",
    "plt.ylabel('Number of Crimes')\n",
    "plt.xticks(rotation=45, ha='right')\n",
    "plt.tight_layout()\n",
    "plt.show()\n"
   ]
  },
  {
   "cell_type": "markdown",
   "id": "02fc31ca",
   "metadata": {},
   "source": [
    "# INSIGHT 21: THEFT REMAINS HIGH\n",
    "# INSIGHT 22: SEASONAL VARIATIONS OCCUR"
   ]
  },
  {
   "cell_type": "code",
   "execution_count": null,
   "id": "d4c6ccf6",
   "metadata": {},
   "outputs": [],
   "source": [
    "plt.figure(figsize=(10,5))\n",
    "data = df[df['Primary Type']=='BATTERY']['Year'].value_counts().sort_index()\n",
    "x = data.index.astype(str)\n",
    "y = data.values\n",
    "plt.bar(x, y)\n",
    "plt.title('Yearly Trend of Battery')\n",
    "plt.xlabel('Yearly')\n",
    "plt.ylabel('Number of Crimes')\n",
    "plt.xticks(rotation=45, ha='right')\n",
    "plt.tight_layout()\n",
    "plt.show()\n"
   ]
  },
  {
   "cell_type": "markdown",
   "id": "b96258f0",
   "metadata": {},
   "source": [
    "# INSIGHT 23: BATTERY IS CONSISTENTLY HIGH\n",
    "# INSIGHT 24: MINOR YEARLY FLUCTUATIONS"
   ]
  },
  {
   "cell_type": "code",
   "execution_count": null,
   "id": "b59cf6a3",
   "metadata": {},
   "outputs": [],
   "source": [
    "plt.figure(figsize=(10,5))\n",
    "data = df[df['Primary Type']=='NARCOTICS']['Year'].value_counts().sort_index()\n",
    "x = data.index.astype(str)\n",
    "y = data.values\n",
    "plt.bar(x, y)\n",
    "plt.title('Yearly Trend of Narcotics')\n",
    "plt.xlabel('Yearly')\n",
    "plt.ylabel('Number of Crimes')\n",
    "plt.xticks(rotation=45, ha='right')\n",
    "plt.tight_layout()\n",
    "plt.show()\n"
   ]
  },
  {
   "cell_type": "markdown",
   "id": "0dc8676f",
   "metadata": {},
   "source": [
    "# INSIGHT 25: NARCOTICS SHOW PEAKS\n",
    "# INSIGHT 26: POLICY MAY AFFECT CASE NUMBERS"
   ]
  },
  {
   "cell_type": "code",
   "execution_count": null,
   "id": "4923f7ca",
   "metadata": {},
   "outputs": [],
   "source": [
    "plt.figure(figsize=(10,5))\n",
    "data = df['Ward'].value_counts().head(10)\n",
    "x = data.index.astype(str)\n",
    "y = data.values\n",
    "plt.bar(x, y)\n",
    "plt.title('Crime Counts by Ward (Top 10)')\n",
    "plt.xlabel('Crime')\n",
    "plt.ylabel('Number of Crimes')\n",
    "plt.xticks(rotation=45, ha='right')\n",
    "plt.tight_layout()\n",
    "plt.show()\n"
   ]
  },
  {
   "cell_type": "markdown",
   "id": "e15b51b0",
   "metadata": {},
   "source": [
    "# INSIGHT 27: CERTAIN WARDS ARE HOTSPOTS\n",
    "# INSIGHT 28: POPULATION DENSITY LIKELY FACTOR"
   ]
  },
  {
   "cell_type": "code",
   "execution_count": null,
   "id": "919ea8ee",
   "metadata": {},
   "outputs": [],
   "source": [
    "plt.figure(figsize=(10,5))\n",
    "data = df['District'].value_counts().head(10)\n",
    "x = data.index.astype(str)\n",
    "y = data.values\n",
    "plt.bar(x, y)\n",
    "plt.title('Crimes by District (Top 10)')\n",
    "plt.xlabel('Crimes')\n",
    "plt.ylabel('Number of Crimes')\n",
    "plt.xticks(rotation=45, ha='right')\n",
    "plt.tight_layout()\n",
    "plt.show()\n"
   ]
  },
  {
   "cell_type": "markdown",
   "id": "75a93f29",
   "metadata": {},
   "source": [
    "# INSIGHT 29: DISTRICTS VARY WIDELY\n",
    "# INSIGHT 30: SOME DISTRICTS REPORT MUCH MORE"
   ]
  },
  {
   "cell_type": "code",
   "execution_count": null,
   "id": "b1d390c3",
   "metadata": {},
   "outputs": [],
   "source": [
    "plt.figure(figsize=(10,5))\n",
    "data = df['Beat'].value_counts().head(10)\n",
    "x = data.index.astype(str)\n",
    "y = data.values\n",
    "plt.bar(x, y)\n",
    "plt.title('Crimes by Beat (Top 10)')\n",
    "plt.xlabel('Crimes')\n",
    "plt.ylabel('Number of Crimes')\n",
    "plt.xticks(rotation=45, ha='right')\n",
    "plt.tight_layout()\n",
    "plt.show()\n"
   ]
  },
  {
   "cell_type": "markdown",
   "id": "56d5f833",
   "metadata": {},
   "source": [
    "# INSIGHT 31: BUSY BEATS HAVE HIGH COUNTS\n",
    "# INSIGHT 32: QUIETER BEATS HAVE FEWER INCIDENTS"
   ]
  },
  {
   "cell_type": "code",
   "execution_count": null,
   "id": "caffdefd",
   "metadata": {},
   "outputs": [],
   "source": [
    "plt.figure(figsize=(8,6))\n",
    "data = df['Primary Type'].value_counts().head(5)\n",
    "labels = data.index.astype(str)\n",
    "sizes = data.values\n",
    "plt.pie(sizes, labels=labels, autopct='%1.1f%%')\n",
    "plt.title('Top 5 Crime Types (Pie)')\n",
    "plt.tight_layout()\n",
    "plt.show()\n"
   ]
  },
  {
   "cell_type": "markdown",
   "id": "d670636d",
   "metadata": {},
   "source": [
    "# INSIGHT 33: TOP 5 ACCOUNT FOR MOST INCIDENTS\n",
    "# INSIGHT 34: THEFT DOMINATES AMONG TOP 5"
   ]
  },
  {
   "cell_type": "code",
   "execution_count": null,
   "id": "d5ec546f",
   "metadata": {},
   "outputs": [],
   "source": [
    "plt.figure(figsize=(10,5))\n",
    "data = df['Description'].value_counts().head(10)\n",
    "x = data.index.astype(str)\n",
    "y = data.values\n",
    "plt.bar(x, y)\n",
    "plt.title('Top 10 Descriptions')\n",
    "plt.xlabel('Top')\n",
    "plt.ylabel('Number of Crimes')\n",
    "plt.xticks(rotation=45, ha='right')\n",
    "plt.tight_layout()\n",
    "plt.show()\n"
   ]
  },
  {
   "cell_type": "markdown",
   "id": "503f6436",
   "metadata": {},
   "source": [
    "# INSIGHT 35: CERTAIN DESCRIPTIONS ARE VERY COMMON"
   ]
  }
 ],
 "metadata": {},
 "nbformat": 4,
 "nbformat_minor": 5
}
